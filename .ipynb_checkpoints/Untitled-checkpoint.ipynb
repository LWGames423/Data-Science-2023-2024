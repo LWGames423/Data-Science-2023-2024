{
 "cells": [
  {
   "cell_type": "code",
   "execution_count": 91,
   "id": "b4722a74-0072-4595-9128-b17092ba627b",
   "metadata": {},
   "outputs": [
    {
     "name": "stdout",
     "output_type": "stream",
     "text": [
      "      Year  Carbon Dioxide (ppm)    dt  LandAverageTemperature\n",
      "24    1958                315.69  1958                   3.574\n",
      "25    1958                315.69  1958                   3.695\n",
      "26    1958                315.69  1958                   5.453\n",
      "27    1958                315.69  1958                   8.520\n",
      "28    1958                315.69  1958                  11.519\n",
      "...    ...                   ...   ...                     ...\n",
      "8347  2015                401.89  2015                  14.755\n",
      "8348  2015                401.89  2015                  12.999\n",
      "8349  2015                401.89  2015                  10.801\n",
      "8350  2015                401.89  2015                   7.433\n",
      "8351  2015                401.89  2015                   5.518\n",
      "\n",
      "[8268 rows x 4 columns]\n"
     ]
    },
    {
     "data": {
      "text/plain": [
       "0.08644989845797905"
      ]
     },
     "execution_count": 91,
     "metadata": {},
     "output_type": "execute_result"
    }
   ],
   "source": [
    "# Importing modules\n",
    "import numpy as np\n",
    "import pandas as pd\n",
    "\n",
    "df1 = pd.read_csv('CSV/CO2 Concentration/CO2 Concentration.csv')[[\"Year\",\"Carbon Dioxide (ppm)\"]] # CO2 Data\n",
    "df2 = pd.read_csv('CSV/Global Land Temp/GlobalTemperatures.csv')[[\"dt\", \"LandAverageTemperature\"]] # Temperature Max\n",
    "df2['dt'] = df2['dt'].apply(lambda x: x[:4])\n",
    "\n",
    "df2[\"dt\"] = df2[\"dt\"].astype(int)\n",
    "df3 = df1.merge(df2, left_on=\"Year\", right_on=\"dt\")\n",
    "\n",
    "# Clear NULL values\n",
    "df3.dropna(inplace = True)\n",
    "\n",
    "print(df3)\n",
    "df3[\"Carbon Dioxide (ppm)\"].corr(df3[\"LandAverageTemperature\"])"
   ]
  }
 ],
 "metadata": {
  "kernelspec": {
   "display_name": "Python 3 (ipykernel)",
   "language": "python",
   "name": "python3"
  },
  "language_info": {
   "codemirror_mode": {
    "name": "ipython",
    "version": 3
   },
   "file_extension": ".py",
   "mimetype": "text/x-python",
   "name": "python",
   "nbconvert_exporter": "python",
   "pygments_lexer": "ipython3",
   "version": "3.11.1"
  }
 },
 "nbformat": 4,
 "nbformat_minor": 5
}
